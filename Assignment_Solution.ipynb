{
 "cells": [
  {
   "cell_type": "code",
   "execution_count": 62,
   "id": "d826bb64-b2ea-40ae-a868-83f512c8c950",
   "metadata": {},
   "outputs": [],
   "source": [
    "import pandas as pd\n",
    "from datetime import datetime"
   ]
  },
  {
   "cell_type": "code",
   "execution_count": 63,
   "id": "a7386478-cff4-47cd-b897-adf2ecc9ae76",
   "metadata": {},
   "outputs": [],
   "source": [
    "import numpy as np"
   ]
  },
  {
   "cell_type": "code",
   "execution_count": 64,
   "id": "26319bfc-9ed8-4792-a80c-fa3f3d0d9a25",
   "metadata": {},
   "outputs": [],
   "source": [
    "df=pd.read_csv('Assignment_Timecard.csv')"
   ]
  },
  {
   "cell_type": "code",
   "execution_count": 65,
   "id": "41758a07-d8a4-45d7-b320-9b99faad67f3",
   "metadata": {},
   "outputs": [
    {
     "data": {
      "text/html": [
       "<div>\n",
       "<style scoped>\n",
       "    .dataframe tbody tr th:only-of-type {\n",
       "        vertical-align: middle;\n",
       "    }\n",
       "\n",
       "    .dataframe tbody tr th {\n",
       "        vertical-align: top;\n",
       "    }\n",
       "\n",
       "    .dataframe thead th {\n",
       "        text-align: right;\n",
       "    }\n",
       "</style>\n",
       "<table border=\"1\" class=\"dataframe\">\n",
       "  <thead>\n",
       "    <tr style=\"text-align: right;\">\n",
       "      <th></th>\n",
       "      <th>Position ID</th>\n",
       "      <th>Position Status</th>\n",
       "      <th>Time</th>\n",
       "      <th>Time Out</th>\n",
       "      <th>Timecard Hours (as Time)</th>\n",
       "      <th>Pay Cycle Start Date</th>\n",
       "      <th>Pay Cycle End Date</th>\n",
       "      <th>Employee Name</th>\n",
       "      <th>File Number</th>\n",
       "      <th>Unnamed: 9</th>\n",
       "      <th>Unnamed: 10</th>\n",
       "    </tr>\n",
       "  </thead>\n",
       "  <tbody>\n",
       "    <tr>\n",
       "      <th>0</th>\n",
       "      <td>WFS000054</td>\n",
       "      <td>Active</td>\n",
       "      <td>NaN</td>\n",
       "      <td>NaN</td>\n",
       "      <td>NaN</td>\n",
       "      <td>NaN</td>\n",
       "      <td>NaN</td>\n",
       "      <td>SiWgh, PraGhjEM</td>\n",
       "      <td>54</td>\n",
       "      <td>NaN</td>\n",
       "      <td>NaN</td>\n",
       "    </tr>\n",
       "    <tr>\n",
       "      <th>1</th>\n",
       "      <td>WFS000065</td>\n",
       "      <td>Active</td>\n",
       "      <td>09/12/2023 10:08 AM</td>\n",
       "      <td>09/12/2023 01:53 PM</td>\n",
       "      <td>3:45</td>\n",
       "      <td>09/10/2023</td>\n",
       "      <td>09/23/2023</td>\n",
       "      <td>REsaXiaWE, XAis</td>\n",
       "      <td>65</td>\n",
       "      <td>NaN</td>\n",
       "      <td>NaN</td>\n",
       "    </tr>\n",
       "    <tr>\n",
       "      <th>2</th>\n",
       "      <td>WFS000065</td>\n",
       "      <td>Active</td>\n",
       "      <td>09/12/2023 02:23 PM</td>\n",
       "      <td>09/12/2023 07:02 PM</td>\n",
       "      <td>4:39</td>\n",
       "      <td>09/10/2023</td>\n",
       "      <td>09/23/2023</td>\n",
       "      <td>REsaXiaWE, XAis</td>\n",
       "      <td>65</td>\n",
       "      <td>NaN</td>\n",
       "      <td>NaN</td>\n",
       "    </tr>\n",
       "    <tr>\n",
       "      <th>3</th>\n",
       "      <td>WFS000065</td>\n",
       "      <td>Active</td>\n",
       "      <td>09/13/2023 10:08 AM</td>\n",
       "      <td>09/13/2023 02:20 PM</td>\n",
       "      <td>4:12</td>\n",
       "      <td>09/10/2023</td>\n",
       "      <td>09/23/2023</td>\n",
       "      <td>REsaXiaWE, XAis</td>\n",
       "      <td>65</td>\n",
       "      <td>NaN</td>\n",
       "      <td>NaN</td>\n",
       "    </tr>\n",
       "    <tr>\n",
       "      <th>4</th>\n",
       "      <td>WFS000065</td>\n",
       "      <td>Active</td>\n",
       "      <td>09/13/2023 02:50 PM</td>\n",
       "      <td>09/13/2023 08:44 PM</td>\n",
       "      <td>5:54</td>\n",
       "      <td>09/10/2023</td>\n",
       "      <td>09/23/2023</td>\n",
       "      <td>REsaXiaWE, XAis</td>\n",
       "      <td>65</td>\n",
       "      <td>NaN</td>\n",
       "      <td>NaN</td>\n",
       "    </tr>\n",
       "  </tbody>\n",
       "</table>\n",
       "</div>"
      ],
      "text/plain": [
       "  Position ID Position Status                 Time             Time Out  \\\n",
       "0   WFS000054          Active                  NaN                  NaN   \n",
       "1   WFS000065          Active  09/12/2023 10:08 AM  09/12/2023 01:53 PM   \n",
       "2   WFS000065          Active  09/12/2023 02:23 PM  09/12/2023 07:02 PM   \n",
       "3   WFS000065          Active  09/13/2023 10:08 AM  09/13/2023 02:20 PM   \n",
       "4   WFS000065          Active  09/13/2023 02:50 PM  09/13/2023 08:44 PM   \n",
       "\n",
       "  Timecard Hours (as Time) Pay Cycle Start Date Pay Cycle End Date  \\\n",
       "0                      NaN                  NaN                NaN   \n",
       "1                     3:45           09/10/2023         09/23/2023   \n",
       "2                     4:39           09/10/2023         09/23/2023   \n",
       "3                     4:12           09/10/2023         09/23/2023   \n",
       "4                     5:54           09/10/2023         09/23/2023   \n",
       "\n",
       "     Employee Name  File Number  Unnamed: 9 Unnamed: 10  \n",
       "0  SiWgh, PraGhjEM           54         NaN         NaN  \n",
       "1  REsaXiaWE, XAis           65         NaN         NaN  \n",
       "2  REsaXiaWE, XAis           65         NaN         NaN  \n",
       "3  REsaXiaWE, XAis           65         NaN         NaN  \n",
       "4  REsaXiaWE, XAis           65         NaN         NaN  "
      ]
     },
     "execution_count": 65,
     "metadata": {},
     "output_type": "execute_result"
    }
   ],
   "source": [
    "df.head()"
   ]
  },
  {
   "cell_type": "code",
   "execution_count": 66,
   "id": "3c228df2-97e4-48db-81f2-cb153d1c45ff",
   "metadata": {},
   "outputs": [],
   "source": [
    "# Checking for 7 consecutive days "
   ]
  },
  {
   "cell_type": "code",
   "execution_count": 67,
   "id": "266376db-4400-4832-8d49-1cae1b0545d1",
   "metadata": {},
   "outputs": [],
   "source": [
    "from datetime import datetime, timedelta\n",
    "from collections import defaultdict"
   ]
  },
  {
   "cell_type": "code",
   "execution_count": 68,
   "id": "65c7fd1c-713d-4fbc-862b-853f571a2e8f",
   "metadata": {},
   "outputs": [],
   "source": [
    "def is_consecutive(date1, date2):\n",
    "    return (date1 + timedelta(days=1)) == date2"
   ]
  },
  {
   "cell_type": "code",
   "execution_count": 69,
   "id": "098bbd6f-ea7d-4558-8bdb-3fd56ed2d241",
   "metadata": {},
   "outputs": [],
   "source": [
    "employee_records = defaultdict(list)\n",
    "\n",
    "\n",
    "for index, row in df.iterrows():\n",
    "    employee_name = row['Employee Name']\n",
    "    time_value = row['Time']\n",
    "    position_no=row['Position ID']\n",
    "    \n",
    "    if pd.notna(time_value) and isinstance(time_value, str):\n",
    "        time_in = datetime.strptime(time_value, '%m/%d/%Y %I:%M %p')\n",
    "        key_tuple=(employee_name,position_no)\n",
    "        employee_records[key_tuple].append(time_in)"
   ]
  },
  {
   "cell_type": "code",
   "execution_count": 77,
   "id": "6f61a5e8-b2a3-4b33-a555-e0aeb30e76f6",
   "metadata": {},
   "outputs": [
    {
     "name": "stdout",
     "output_type": "stream",
     "text": [
      "Employees with position ids who have worked for 7 consecutive days: []\n"
     ]
    }
   ],
   "source": [
    "employees_with_7_consecutive_days = []\n",
    "for key_tuple, records in employee_records.items():\n",
    "    records.sort()\n",
    "\n",
    "    consecutive_days_count = 1\n",
    "\n",
    "    for i in range(1, len(records)):\n",
    "        if is_consecutive(records[i - 1].date(), records[i].date()):\n",
    "            consecutive_days_count += 1\n",
    "        else:\n",
    "            consecutive_days_count = 1\n",
    "\n",
    "        if consecutive_days_count == 7:\n",
    "            employees_with_7_consecutive_days.append(key_tuple)\n",
    "            break\n",
    "\n",
    "\n",
    "print(\"Employees with position ids who have worked for 7 consecutive days:\", employees_with_7_consecutive_days)"
   ]
  },
  {
   "cell_type": "code",
   "execution_count": 71,
   "id": "e79ce295-189f-474f-828a-14e105533053",
   "metadata": {},
   "outputs": [],
   "source": [
    "#Employess with time difference in shifts between 1 and 10\n",
    "def is_between_1_and_10_hours(shift1_end, shift2_start):\n",
    "    time_difference = shift2_start - shift1_end\n",
    "    return timedelta(hours=1) < time_difference < timedelta(hours=10)"
   ]
  },
  {
   "cell_type": "code",
   "execution_count": 76,
   "id": "043f25e6-2c0b-42d0-bde0-559bf9ec4836",
   "metadata": {},
   "outputs": [
    {
     "name": "stdout",
     "output_type": "stream",
     "text": [
      "Employees with position ids with time between 1 and 10 hours between shifts: [('REsaXiaWE, XAis', 'WFS000065'), ('Sparks, KeWWeMh', 'WFS000101'), ('GaXCes, EXias XEpez', 'WFS000127'), ('CaMaXaWE, CeghaW', 'WFS000153'), ('Arias, FeXipe', 'WFS000170'), ('Merrazas, GriaW', 'WFS000180'), ('GarWes, JAsMiW', 'WFS000181'), ('FeXix, XeEWeX', 'WFS000183'), ('HerCEsiXXE, PedrE', 'WFS000185'), ('Xee, XaCar', 'WFS000200'), ('GaWks, GryaW', 'WFS000226'), ('MAake, CasiaWE', 'WFS000228'), ('SiWgh, MarAWpreeM', 'WFS000246'), ('DiWh, DaA', 'WFS000268'), ('ArEsMigAi, AXexaWder', 'WFS000306'), ('De Xa Cerda, IgWaciE', 'WFS000318'), ('REdrigAez, PedrE', 'WFS000336'), ('MraW, WiXXiaC Ha', 'WFS000345'), ('MAcker, CichaeX', 'WFS000360'), ('CaMXEck, CEhaCCed', 'WFS000362'), ('MaXeGi, ACirCasEAd', 'WFS000364'), ('PayaW, DaWieX', 'WFS000368'), ('ErMiz, AGigaiX', 'WFS000372'), ('ErEpeza, JEvaW', 'WFS000382'), ('VasqAez, AXfredE', 'WFS000391'), ('SavaWg, JEhW', 'WFS000393'), ('REdrigAez, XAis', 'WFS000412'), ('EasMCaW, CichaeX', 'WFS000414'), ('SiWgh, CaWpreeM', 'WFS000418'), ('RECerE, SergiE', 'WFS000420'), ('SiWgh, JaspreeM', 'WFS000424'), ('SiWgXeMEW, REger', 'WFS000426'), ('PaXaciE, JEWaMhaW', 'WFS000434'), ('ErEzcE, SaAX', 'WFS000442'), ('CercadE, SaAX', 'WFS000446'), ('CEreira Jr, JEse', 'WFS000456'), ('AXvarez, Edgar', 'WFS000457'), ('PaAXE, KyXe', 'WFS000460'), ('XiWW, JAsMiW', 'WFS000462'), ('CaXdEWadE, AXfEWsE', 'WFS000463'), ('CeWdEza, Erik', 'WFS000465'), ('PerkiWs, MarraWce', 'WFS000469'), ('GAeWdia, JAaW CarXEs', 'WFS000473'), ('ZaCEra, Edward', 'WFS000477'), ('ArevaXE, JEse', 'WFS000491'), ('CErMes, DEAgXas Farid', 'WFS000495'), ('CercadE, CrisMiaW', 'WFS000496'), ('ZaCEra, CigAeX', 'WFS000499'), ('Caxies, MerreXX', 'WFS000500'), ('CcRAWWeX, REWaXd Xee', 'WFS000501'), ('CEMMa, Jessica', 'WFS000503'), ('REdrigAez, AXexis GAMierrez', 'WFS000505'), ('Rivera AXcaWMar, GrayaW', 'WFS000507'), ('EXivares, FeXCaW', 'WFS000508'), ('ChaCErE, HEXger CarMiWez', 'WFS000509'), ('WiXXiaCs, MyrreXX', 'WFS000511'), ('CaraGiXXa, AWMhEWy', 'WFS000514'), ('GrACfieXd, CErWeXiAs', 'WFS000515'), ('Perez, EdwiW JiCeWez', 'WFS000517'), ('ArrAMia, AXexis ArMArE', 'WFS000518'), ('DiXXard, JEwaWW Cedric', 'WFS000519'), ('SaWchez PaCpXEWa, CrisMiaW AXGerM', 'WFS000521'), ('XEpez WAWez, XAis', 'WFS000522'), ('DeXgadiXXE REdarMe, ChrisMiaW S', 'WFS000523'), ('CeciWa, SiXvesMre Jr', 'WFS000528'), ('FaGiaW CiraWda, JEse', 'WFS000530'), ('HaCiXMEW, DeaWMe DevEW', 'WFS000536'), ('HAWMer, ViWceWM De PaAX', 'WFS000538'), ('AXcEcer, ECar JesAs', 'WFS000541'), ('IWGEAa, JeffersEW', 'WFS000546'), ('CesiWa CEreWE, KeviW FaGiaW', 'WFS000548'), ('HEGGie ErMega, SeGasMiaW CichaeX', 'WFS000549'), ('REdrigAez, GraWdEW AWgeX', 'WFS000550'), ('Diaz GaXvez, RicardE JEsAe', 'WFS000551'), ('EsMrada, JEse FeXix', 'WFS000552'), ('SMrickXaWd, REdWey EAgeWe', 'WFS000555'), ('RAvaXcaGa GaWAeXEs, DaWieX JesAs', 'WFS000556'), ('JerEWiCE CEraXes, CarXEs D', 'WFS000557'), ('CharXes, EGadiah SEraccE Jr', 'WFS000566'), ('DECiWgAez AviWa, CigAeX AWgeX', 'WFS000569'), ('CAevas ZavaXa, JErge XAis', 'WFS000571'), ('XariEs XaWdaverde, XAis ErWesME', 'WFS000572'), ('VaXderraCa CasMiXXE, Escar FaGiaW', 'WFS000573'), ('CiGriaW DeXgadE, EXeWa S', 'WFS000574'), ('CarMer, XyWWeXX DejAaW Jr', 'WFS000576'), ('SaWchez, ArWAXfE', 'WFS000577'), ('VasqAez, JEhW SeGasMiaW', 'WFS000578'), ('GAMierrez, PedrE CigAeX', 'WFS000579'), ('HerWaWdez SaWchez, AWdrew AWMhEWy', 'WFS000581'), ('De XEs SaWMEs, JEseph XAis', 'WFS000582'), ('ViXXa, AXfredE AieXXE', 'WFS000583'), ('ArCeWMa FXEres, JEWaMhaW', 'WFS000584'), ('RaCEs HerWaWdez, AdieX ECar', 'WFS000585'), ('XariEs, Cesar GiEvaWWi', 'WFS000587'), ('AGeX, WaMhaW REGerM PeWa', 'WFS000588'), ('WgAyeW, RayCEWd', 'WFS000589')]\n"
     ]
    }
   ],
   "source": [
    "employees_between_1_and_10_hours = []\n",
    "\n",
    "\n",
    "for key_tuple, records in employee_records.items():\n",
    "    records.sort()\n",
    "\n",
    "    for i in range(1, len(records)):\n",
    "        shift1_end = records[i - 1]\n",
    "        shift2_start = records[i]\n",
    "\n",
    "        if is_between_1_and_10_hours(shift1_end, shift2_start):\n",
    "            employees_between_1_and_10_hours.append(key_tuple)\n",
    "            break\n",
    "\n",
    "\n",
    "print(\"Employees with position ids with time between 1 and 10 hours between shifts:\", employees_between_1_and_10_hours)"
   ]
  },
  {
   "cell_type": "code",
   "execution_count": 73,
   "id": "66fc74fd-a9ac-4445-94cf-cdc699a81c75",
   "metadata": {},
   "outputs": [],
   "source": [
    "# Function to check if the duration of a single shift is more than 14 hours\n",
    "def is_more_than_14_hours(shift_start, shift_end):\n",
    "    shift_duration = shift_end - shift_start\n",
    "    return shift_duration > timedelta(hours=14)"
   ]
  },
  {
   "cell_type": "code",
   "execution_count": 75,
   "id": "c304344a-088e-4634-a938-d3b2938420e8",
   "metadata": {},
   "outputs": [
    {
     "name": "stdout",
     "output_type": "stream",
     "text": [
      "Employees with position ids who have worked more than 14 hours in a single shift: [('REsaXiaWE, XAis', 'WFS000065'), ('Sparks, KeWWeMh', 'WFS000101'), ('GaXCes, EXias XEpez', 'WFS000127'), ('CaMaXaWE, CeghaW', 'WFS000153'), ('Arias, FeXipe', 'WFS000170'), ('Merrazas, GriaW', 'WFS000180'), ('GarWes, JAsMiW', 'WFS000181'), ('FeXix, XeEWeX', 'WFS000183'), ('HerCEsiXXE, PedrE', 'WFS000185'), ('Xee, XaCar', 'WFS000200'), ('GaWks, GryaW', 'WFS000226'), ('MAake, CasiaWE', 'WFS000228'), ('SiWgh, MarAWpreeM', 'WFS000246'), ('DiWh, DaA', 'WFS000268'), ('ArEsMigAi, AXexaWder', 'WFS000306'), ('De Xa Cerda, IgWaciE', 'WFS000318'), ('REdrigAez, PedrE', 'WFS000336'), ('MraW, WiXXiaC Ha', 'WFS000345'), ('MAcker, CichaeX', 'WFS000360'), ('CaMXEck, CEhaCCed', 'WFS000362'), ('MaXeGi, ACirCasEAd', 'WFS000364'), ('PayaW, DaWieX', 'WFS000368'), ('ErMiz, AGigaiX', 'WFS000372'), ('ErEpeza, JEvaW', 'WFS000382'), ('VasqAez, AXfredE', 'WFS000391'), ('SavaWg, JEhW', 'WFS000393'), ('REdrigAez, XAis', 'WFS000412'), ('EasMCaW, CichaeX', 'WFS000414'), ('SiWgh, CaWpreeM', 'WFS000418'), ('RECerE, SergiE', 'WFS000420'), ('SiWgh, JaspreeM', 'WFS000424'), ('SiWgXeMEW, REger', 'WFS000426'), ('PaXaciE, JEWaMhaW', 'WFS000434'), ('ErEzcE, SaAX', 'WFS000442'), ('CercadE, SaAX', 'WFS000446'), ('CEreira Jr, JEse', 'WFS000456'), ('AXvarez, Edgar', 'WFS000457'), ('PaAXE, KyXe', 'WFS000460'), ('XiWW, JAsMiW', 'WFS000462'), ('CaXdEWadE, AXfEWsE', 'WFS000463'), ('CeWdEza, Erik', 'WFS000465'), ('PerkiWs, MarraWce', 'WFS000469'), ('GAeWdia, JAaW CarXEs', 'WFS000473'), ('ZaCEra, Edward', 'WFS000477'), ('ArevaXE, JEse', 'WFS000491'), ('CErMes, DEAgXas Farid', 'WFS000495'), ('CercadE, CrisMiaW', 'WFS000496'), ('ZaCEra, CigAeX', 'WFS000499'), ('Caxies, MerreXX', 'WFS000500'), ('CcRAWWeX, REWaXd Xee', 'WFS000501'), ('CEMMa, Jessica', 'WFS000503'), ('REdrigAez, AXexis GAMierrez', 'WFS000505'), ('Rivera AXcaWMar, GrayaW', 'WFS000507'), ('EXivares, FeXCaW', 'WFS000508'), ('ChaCErE, HEXger CarMiWez', 'WFS000509'), ('WiXXiaCs, MyrreXX', 'WFS000511'), ('CaraGiXXa, AWMhEWy', 'WFS000514'), ('GrACfieXd, CErWeXiAs', 'WFS000515'), ('Perez, EdwiW JiCeWez', 'WFS000517'), ('ArrAMia, AXexis ArMArE', 'WFS000518'), ('DiXXard, JEwaWW Cedric', 'WFS000519'), ('SaWchez PaCpXEWa, CrisMiaW AXGerM', 'WFS000521'), ('XEpez WAWez, XAis', 'WFS000522'), ('DeXgadiXXE REdarMe, ChrisMiaW S', 'WFS000523'), ('CeciWa, SiXvesMre Jr', 'WFS000528'), ('FaGiaW CiraWda, JEse', 'WFS000530'), ('HaCiXMEW, DeaWMe DevEW', 'WFS000536'), ('HAWMer, ViWceWM De PaAX', 'WFS000538'), ('AXcEcer, ECar JesAs', 'WFS000541'), ('IWGEAa, JeffersEW', 'WFS000546'), ('CesiWa CEreWE, KeviW FaGiaW', 'WFS000548'), ('HEGGie ErMega, SeGasMiaW CichaeX', 'WFS000549'), ('REdrigAez, GraWdEW AWgeX', 'WFS000550'), ('Diaz GaXvez, RicardE JEsAe', 'WFS000551'), ('EsMrada, JEse FeXix', 'WFS000552'), ('SMrickXaWd, REdWey EAgeWe', 'WFS000555'), ('RAvaXcaGa GaWAeXEs, DaWieX JesAs', 'WFS000556'), ('JerEWiCE CEraXes, CarXEs D', 'WFS000557'), ('CharXes, EGadiah SEraccE Jr', 'WFS000566'), ('DECiWgAez AviWa, CigAeX AWgeX', 'WFS000569'), ('CAevas ZavaXa, JErge XAis', 'WFS000571'), ('XariEs XaWdaverde, XAis ErWesME', 'WFS000572'), ('VaXderraCa CasMiXXE, Escar FaGiaW', 'WFS000573'), ('CiGriaW DeXgadE, EXeWa S', 'WFS000574'), ('SaWchez, ArWAXfE', 'WFS000577'), ('VasqAez, JEhW SeGasMiaW', 'WFS000578'), ('GAMierrez, PedrE CigAeX', 'WFS000579'), ('HerWaWdez SaWchez, AWdrew AWMhEWy', 'WFS000581'), ('De XEs SaWMEs, JEseph XAis', 'WFS000582'), ('ViXXa, AXfredE AieXXE', 'WFS000583'), ('ArCeWMa FXEres, JEWaMhaW', 'WFS000584'), ('RaCEs HerWaWdez, AdieX ECar', 'WFS000585'), ('XariEs, Cesar GiEvaWWi', 'WFS000587'), ('AGeX, WaMhaW REGerM PeWa', 'WFS000588'), ('WgAyeW, RayCEWd', 'WFS000589')]\n"
     ]
    }
   ],
   "source": [
    "employees_more_than_14_hours = []\n",
    "\n",
    "\n",
    "for key_tuple, records in employee_records.items():\n",
    "    for shift_start, shift_end in zip(records, records[1:]):\n",
    "        if is_more_than_14_hours(shift_start, shift_end):\n",
    "            employees_more_than_14_hours.append(key_tuple)\n",
    "            break\n",
    "\n",
    "# Print or use the list as needed\n",
    "print(\"Employees with position ids who have worked more than 14 hours in a single shift:\", employees_more_than_14_hours)"
   ]
  },
  {
   "cell_type": "code",
   "execution_count": null,
   "id": "0fbb0cba-6cbc-47e7-966b-64036435200e",
   "metadata": {},
   "outputs": [],
   "source": []
  },
  {
   "cell_type": "code",
   "execution_count": null,
   "id": "589cf4ec-82c8-41ee-8d86-01ab1f98206a",
   "metadata": {},
   "outputs": [],
   "source": []
  },
  {
   "cell_type": "code",
   "execution_count": null,
   "id": "e17825d8-1863-4915-989c-d17261df716c",
   "metadata": {},
   "outputs": [],
   "source": []
  }
 ],
 "metadata": {
  "kernelspec": {
   "display_name": "Python 3 (ipykernel)",
   "language": "python",
   "name": "python3"
  },
  "language_info": {
   "codemirror_mode": {
    "name": "ipython",
    "version": 3
   },
   "file_extension": ".py",
   "mimetype": "text/x-python",
   "name": "python",
   "nbconvert_exporter": "python",
   "pygments_lexer": "ipython3",
   "version": "3.10.8"
  }
 },
 "nbformat": 4,
 "nbformat_minor": 5
}
